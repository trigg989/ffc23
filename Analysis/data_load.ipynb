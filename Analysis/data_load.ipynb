{
 "cells": [
  {
   "cell_type": "code",
   "execution_count": 1,
   "metadata": {},
   "outputs": [],
   "source": [
    "import pandas as pd\n",
    "import numpy as np\n",
    "import yfinance as yf\n",
    "import datetime as dt\n",
    "import pandas_datareader as pdr\n",
    "import requests\n",
    "import warnings\n",
    "from pylab import mpl, plt\n",
    "\n",
    "warnings.filterwarnings('ignore', message='Unverified HTTPS request')"
   ]
  },
  {
   "cell_type": "code",
   "execution_count": null,
   "metadata": {},
   "outputs": [],
   "source": [
    "##Function to get SPF Recess indicator data\n",
    "\n",
    "def get_spf():\n",
    "    \n",
    "    #Trading dates\n",
    "    \n",
    "    spx = yf.Ticker('^GSPC')\n",
    "    hist = spx.history(period='max')\n",
    "    hist['date'] = hist.index\n",
    "    hist['quarter'] = hist['date'].dt.quarter\n",
    "    hist['year'] = hist['date'].dt.year\n",
    "    dates = hist.groupby(['year', 'quarter']).agg({'date':'max'}).reset_index()\n",
    "    \n",
    "    #Get spf data and merge in trading dates\n",
    "    url = \"https://www.philadelphiafed.org/-/media/research-and-data/real-time-center/survey-of-professional-forecasters/data-files/files/median_recess_level.xlsx?la=en\"\n",
    "    r = requests.get(url,verify=False)\n",
    "    with open(\"../Data/spfdata.xlsx\", \"wb\") as code:\n",
    "        code.write(r.content)\n",
    "        \n",
    "    spf_df = pd.read_excel('../Data/spfdata.xlsx')\n",
    "    spf_df.columns = [col.lower() for col in spf_df.columns.to_list()]\n",
    "    spf_df = spf_df.merge(dates, left_on = ['year', 'quarter'], right_on = ['year', 'quarter'])\n",
    "    \n",
    "    return spf_df"
   ]
  },
  {
   "cell_type": "code",
   "execution_count": 4,
   "metadata": {},
   "outputs": [],
   "source": [
    "def get_oecd(inds,sd):\n",
    "    \n",
    "    #Trading dates\n",
    "    \n",
    "    spx = yf.Ticker('^GSPC')\n",
    "    hist = spx.history(period='max')\n",
    "    hist['date'] = hist.index\n",
    "    hist['month'] = hist['date'].dt.month\n",
    "    hist['year'] = hist['date'].dt.year\n",
    "    dates = hist.groupby(['year', 'month']).agg({'date':'max'}).reset_index()\n",
    "    \n",
    "    #Get oecd data\n",
    "    \n",
    "    oecd_ind = pdr.DataReader(inds, 'fred', start=sd)\n",
    "    oecd_ind['month'] = oecd_ind.index.month\n",
    "    oecd_ind['year'] = oecd_ind.index.year\n",
    "    oecd_ind = oecd_ind.merge(dates, left_on = ['year', 'month'], right_on = ['year', 'month'])\n",
    "    oecd_ind.dropna(inplace=True)\n",
    "    \n",
    "    \n",
    "    \n",
    "    return oecd_ind\n",
    "    \n",
    "    "
   ]
  },
  {
   "cell_type": "code",
   "execution_count": null,
   "metadata": {},
   "outputs": [],
   "source": [
    "def get_rates(tickers):\n",
    "    \n",
    "    #Get interest rates from FRED\n",
    "    \n",
    "    tickers = ['DGS1MO', 'DGS3MO', 'DGS6MO', 'DGS1', 'DGS2', 'DGS3', 'DGS5', 'DGS7', 'DGS10', 'DGS20', 'DGS30']\n",
    "    df = pdr.DataReader(tickers, 'fred', start='01-01-1900')\n",
    "    return df"
   ]
  },
  {
   "cell_type": "code",
   "execution_count": null,
   "metadata": {},
   "outputs": [],
   "source": [
    "def get_sentiment():\n",
    "    \n",
    "    #Get consumer sentiment index\n",
    "    \n",
    "    tickers = ['UMCSENT']\n",
    "    df = pdr.DataReader(tickers, 'fred', start='01-01-1960')\n",
    "    return df"
   ]
  },
  {
   "cell_type": "code",
   "execution_count": null,
   "metadata": {},
   "outputs": [],
   "source": [
    "def get_consumer_leading_ind():\n",
    "    \n",
    "    #Get consumer confidence index\n",
    "    \n",
    "    ticker = 'CLIUS'\n",
    "    df = pdr.DataReader('ticker=' + ticker, 'econdb', start='01-01-1960')\n",
    "    df.columns = df.columns.map(''.join)\n",
    "    df.columns = ['CLI']\n",
    "    return df"
   ]
  },
  {
   "cell_type": "code",
   "execution_count": null,
   "metadata": {},
   "outputs": [],
   "source": [
    "def get_unemployment():\n",
    "    \n",
    "    #Get unemployment data\n",
    "    ticker = ['UNRATE']\n",
    "    df = pdr.DataReader(ticker, 'fred', start='01-01-1960')"
   ]
  },
  {
   "cell_type": "code",
   "execution_count": null,
   "metadata": {},
   "outputs": [],
   "source": [
    "def get_bond_fund():\n",
    "    fund = yf.Ticker('FUSGX')\n",
    "    df = fund.history(period='max')\n",
    "    return df['Close', 'Dividends']"
   ]
  },
  {
   "cell_type": "code",
   "execution_count": 13,
   "metadata": {},
   "outputs": [],
   "source": [
    "def get_sp500():\n",
    "    \n",
    "    #Grab S&P 500 data from yahoo finance\n",
    "    spx = yf.Ticker('^GSPC')\n",
    "    df = spx.history(period='max')\n",
    "    return df\n",
    "    "
   ]
  },
  {
   "cell_type": "code",
   "execution_count": 6,
   "metadata": {},
   "outputs": [],
   "source": [
    "def get_spr500_tr():\n",
    "    \n",
    "    #Grab S&P 500 total return data from yahoo finance\n",
    "    spx_tr = yf.Ticker('^SP500TR')\n",
    "    df = spx_tr.history(period='max')\n",
    "    return df"
   ]
  },
  {
   "cell_type": "code",
   "execution_count": 6,
   "metadata": {},
   "outputs": [],
   "source": [
    "def get_equity_fund():\n",
    "    fund = yf.Ticker('VFINX')\n",
    "    df = fund.history(period='max')\n",
    "    df = df[['Close', 'Dividends']]\n",
    "    return df"
   ]
  },
  {
   "cell_type": "code",
   "execution_count": 2,
   "metadata": {},
   "outputs": [],
   "source": [
    "def get_fred_recess():\n",
    "    ticker = ['RECPROUSM156N']\n",
    "    df = pdr.DataReader(ticker, 'fred', start='01-01-1960')\n",
    "    return df"
   ]
  },
  {
   "cell_type": "code",
   "execution_count": 10,
   "metadata": {},
   "outputs": [],
   "source": [
    "def get_corp_bond():\n",
    "    ticker = ['BAMLCC1A013YTRIV']\n",
    "    df = pdr.DataReader(ticker, 'fred', start='01-01-1960')\n",
    "    return df"
   ]
  },
  {
   "cell_type": "code",
   "execution_count": 12,
   "metadata": {},
   "outputs": [],
   "source": []
  },
  {
   "cell_type": "code",
   "execution_count": null,
   "metadata": {},
   "outputs": [],
   "source": []
  }
 ],
 "metadata": {
  "kernelspec": {
   "display_name": "Python 3",
   "language": "python",
   "name": "python3"
  },
  "language_info": {
   "codemirror_mode": {
    "name": "ipython",
    "version": 3
   },
   "file_extension": ".py",
   "mimetype": "text/x-python",
   "name": "python",
   "nbconvert_exporter": "python",
   "pygments_lexer": "ipython3",
   "version": "3.7.4"
  }
 },
 "nbformat": 4,
 "nbformat_minor": 4
}
